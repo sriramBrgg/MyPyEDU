{
 "cells": [
  {
   "cell_type": "markdown",
   "id": "328b4aef",
   "metadata": {},
   "source": [
    "### Print Hello world"
   ]
  },
  {
   "cell_type": "markdown",
   "id": "a818b128",
   "metadata": {},
   "source": [
    "#### Print Heloo work"
   ]
  },
  {
   "cell_type": "code",
   "execution_count": 14,
   "id": "0887ad08",
   "metadata": {},
   "outputs": [
    {
     "name": "stdout",
     "output_type": "stream",
     "text": [
      "hello world\n"
     ]
    }
   ],
   "source": [
    "print(\"hello world\")"
   ]
  },
  {
   "cell_type": "markdown",
   "id": "305d3209",
   "metadata": {},
   "source": [
    "##### Print Hello world"
   ]
  },
  {
   "cell_type": "code",
   "execution_count": 15,
   "id": "94045ae1",
   "metadata": {},
   "outputs": [
    {
     "name": "stdout",
     "output_type": "stream",
     "text": [
      "SRIRAM\n"
     ]
    }
   ],
   "source": [
    "print(\"SRIRAM\")"
   ]
  },
  {
   "cell_type": "markdown",
   "id": "180df3f4",
   "metadata": {},
   "source": [
    "###### Print hello world"
   ]
  },
  {
   "cell_type": "code",
   "execution_count": 16,
   "id": "57a3fe63",
   "metadata": {},
   "outputs": [
    {
     "name": "stdout",
     "output_type": "stream",
     "text": [
      "DATA SCIENCE\n"
     ]
    }
   ],
   "source": [
    "print(\"DATA SCIENCE\")"
   ]
  },
  {
   "cell_type": "markdown",
   "id": "e4fde698",
   "metadata": {},
   "source": [
    "# print Hello world"
   ]
  },
  {
   "cell_type": "markdown",
   "id": "f1609e93",
   "metadata": {},
   "source": [
    "# Variables"
   ]
  },
  {
   "cell_type": "code",
   "execution_count": 17,
   "id": "9e095251",
   "metadata": {},
   "outputs": [],
   "source": [
    "name=\"sriram\"\n",
    "age=31\n",
    "Income=85000"
   ]
  },
  {
   "cell_type": "code",
   "execution_count": 18,
   "id": "6046a205",
   "metadata": {},
   "outputs": [
    {
     "name": "stdout",
     "output_type": "stream",
     "text": [
      "sriram\n",
      "31\n",
      "85000\n"
     ]
    }
   ],
   "source": [
    "print(name)\n",
    "print(age)\n",
    "print(Income)"
   ]
  },
  {
   "cell_type": "code",
   "execution_count": 19,
   "id": "db7da77b",
   "metadata": {},
   "outputs": [
    {
     "data": {
      "text/plain": [
       "('sriram', 'nivetha')"
      ]
     },
     "execution_count": 19,
     "metadata": {},
     "output_type": "execute_result"
    }
   ],
   "source": [
    "Namelist=\"sriram\",\"nivetha\"\n",
    "Namelist"
   ]
  },
  {
   "cell_type": "code",
   "execution_count": 21,
   "id": "ce21961f",
   "metadata": {},
   "outputs": [
    {
     "data": {
      "text/plain": [
       "('sriram', 'Nivetha')"
      ]
     },
     "execution_count": 21,
     "metadata": {},
     "output_type": "execute_result"
    }
   ],
   "source": [
    "Name_list=\"sriram\",\"Nivetha\"\n",
    "Name_list"
   ]
  },
  {
   "cell_type": "code",
   "execution_count": 28,
   "id": "cb425861",
   "metadata": {},
   "outputs": [
    {
     "name": "stdout",
     "output_type": "stream",
     "text": [
      "nivetha\n"
     ]
    }
   ],
   "source": [
    "name=\"sriram\"\n",
    "name=\"nivetha\"\n",
    "print(name)"
   ]
  },
  {
   "cell_type": "code",
   "execution_count": 24,
   "id": "f7f533c8",
   "metadata": {},
   "outputs": [
    {
     "name": "stdout",
     "output_type": "stream",
     "text": [
      "24\n"
     ]
    }
   ],
   "source": [
    "x=y=z=24\n",
    "print(y)"
   ]
  },
  {
   "cell_type": "code",
   "execution_count": 27,
   "id": "d2e14b13",
   "metadata": {},
   "outputs": [
    {
     "name": "stdout",
     "output_type": "stream",
     "text": [
      "3\n"
     ]
    }
   ],
   "source": [
    "x,y,z=1,2,3\n",
    "print(z)"
   ]
  },
  {
   "cell_type": "code",
   "execution_count": 30,
   "id": "cd2119fb",
   "metadata": {},
   "outputs": [
    {
     "name": "stdout",
     "output_type": "stream",
     "text": [
      "sriram\n"
     ]
    },
    {
     "data": {
      "text/plain": [
       "str"
      ]
     },
     "execution_count": 30,
     "metadata": {},
     "output_type": "execute_result"
    }
   ],
   "source": [
    "Name=\"sriram\"\n",
    "print(Name)\n",
    "type(name)"
   ]
  },
  {
   "cell_type": "code",
   "execution_count": 33,
   "id": "d32521ad",
   "metadata": {},
   "outputs": [
    {
     "data": {
      "text/plain": [
       "1.0416666666666667"
      ]
     },
     "execution_count": 33,
     "metadata": {},
     "output_type": "execute_result"
    }
   ],
   "source": [
    "x=25\n",
    "y=24\n",
    "x/y"
   ]
  },
  {
   "cell_type": "code",
   "execution_count": 35,
   "id": "a8a6163d",
   "metadata": {},
   "outputs": [
    {
     "data": {
      "text/plain": [
       "252.0"
      ]
     },
     "execution_count": 35,
     "metadata": {},
     "output_type": "execute_result"
    }
   ],
   "source": [
    "x=10.5*y\n",
    "y=6\n",
    "x"
   ]
  },
  {
   "cell_type": "code",
   "execution_count": 37,
   "id": "801b6062",
   "metadata": {},
   "outputs": [
    {
     "data": {
      "text/plain": [
       "20.5"
      ]
     },
     "execution_count": 37,
     "metadata": {},
     "output_type": "execute_result"
    }
   ],
   "source": [
    "x=10\n",
    "y=10.5\n",
    "x+y"
   ]
  },
  {
   "cell_type": "code",
   "execution_count": null,
   "id": "df608da3",
   "metadata": {},
   "outputs": [],
   "source": []
  }
 ],
 "metadata": {
  "kernelspec": {
   "display_name": "Python 3 (ipykernel)",
   "language": "python",
   "name": "python3"
  },
  "language_info": {
   "codemirror_mode": {
    "name": "ipython",
    "version": 3
   },
   "file_extension": ".py",
   "mimetype": "text/x-python",
   "name": "python",
   "nbconvert_exporter": "python",
   "pygments_lexer": "ipython3",
   "version": "3.10.9"
  }
 },
 "nbformat": 4,
 "nbformat_minor": 5
}
