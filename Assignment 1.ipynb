{
 "cells": [
  {
   "cell_type": "code",
   "execution_count": 41,
   "id": "d9538c58",
   "metadata": {},
   "outputs": [
    {
     "data": {
      "text/plain": [
       "((1, 2), (3, 4))"
      ]
     },
     "execution_count": 41,
     "metadata": {},
     "output_type": "execute_result"
    }
   ],
   "source": [
    "Data_tuple=((1,2),(3,4))\n",
    "Data_tuple"
   ]
  },
  {
   "cell_type": "code",
   "execution_count": 42,
   "id": "693c000c",
   "metadata": {},
   "outputs": [
    {
     "data": {
      "text/plain": [
       "[4, 3, 2, 1]"
      ]
     },
     "execution_count": 42,
     "metadata": {},
     "output_type": "execute_result"
    }
   ],
   "source": [
    "numbers_tuple=[4, 3, 2, 1]\n",
    "numbers_tuple"
   ]
  },
  {
   "cell_type": "code",
   "execution_count": 43,
   "id": "09ee7aa9",
   "metadata": {},
   "outputs": [],
   "source": [
    "numbers_tuple=numbers[:]"
   ]
  },
  {
   "cell_type": "code",
   "execution_count": 44,
   "id": "56ffd46d",
   "metadata": {},
   "outputs": [
    {
     "data": {
      "text/plain": [
       "[1, 2, 3, 4]"
      ]
     },
     "execution_count": 44,
     "metadata": {},
     "output_type": "execute_result"
    }
   ],
   "source": [
    "numbers.sort()\n",
    "numbers_tuple"
   ]
  },
  {
   "cell_type": "code",
   "execution_count": 45,
   "id": "7a0af0df",
   "metadata": {},
   "outputs": [],
   "source": [
    "cardinal_numbers_tuple=(\"first\", \"second\", \"third\")"
   ]
  },
  {
   "cell_type": "code",
   "execution_count": 46,
   "id": "38cbae54",
   "metadata": {},
   "outputs": [
    {
     "name": "stdout",
     "output_type": "stream",
     "text": [
      "second\n"
     ]
    }
   ],
   "source": [
    "print(cardinal_numbers_tuple[1])"
   ]
  },
  {
   "cell_type": "code",
   "execution_count": 47,
   "id": "5c79f1ef",
   "metadata": {},
   "outputs": [
    {
     "name": "stdout",
     "output_type": "stream",
     "text": [
      "first\n",
      "second\n",
      "third\n"
     ]
    }
   ],
   "source": [
    "first_num, second_num, third_num = cardinal_numbers_tuple\n",
    "print(first_num)\n",
    "print(second_num)\n",
    "print(third_num)"
   ]
  },
  {
   "cell_type": "code",
   "execution_count": 33,
   "id": "ff320e67",
   "metadata": {},
   "outputs": [],
   "source": [
    "my_name=\"sriram\"\n",
    "name_tuple=tuple(my_name)"
   ]
  },
  {
   "cell_type": "code",
   "execution_count": 11,
   "id": "d2595fbc",
   "metadata": {},
   "outputs": [
    {
     "name": "stdout",
     "output_type": "stream",
     "text": [
      "False\n"
     ]
    }
   ],
   "source": [
    "print(\"x\" in my_name)"
   ]
  },
  {
   "cell_type": "code",
   "execution_count": 34,
   "id": "5f45b967",
   "metadata": {
    "scrolled": true
   },
   "outputs": [
    {
     "name": "stdout",
     "output_type": "stream",
     "text": [
      "True\n"
     ]
    }
   ],
   "source": [
    "print(\"s\" in my_name)"
   ]
  },
  {
   "cell_type": "code",
   "execution_count": null,
   "id": "319faf3d",
   "metadata": {},
   "outputs": [],
   "source": []
  }
 ],
 "metadata": {
  "kernelspec": {
   "display_name": "Python 3 (ipykernel)",
   "language": "python",
   "name": "python3"
  },
  "language_info": {
   "codemirror_mode": {
    "name": "ipython",
    "version": 3
   },
   "file_extension": ".py",
   "mimetype": "text/x-python",
   "name": "python",
   "nbconvert_exporter": "python",
   "pygments_lexer": "ipython3",
   "version": "3.10.9"
  }
 },
 "nbformat": 4,
 "nbformat_minor": 5
}
