{
 "cells": [
  {
   "cell_type": "code",
   "execution_count": 5,
   "id": "898cc83b",
   "metadata": {},
   "outputs": [],
   "source": [
    "import numpy as np\n",
    "import pandas as pd"
   ]
  },
  {
   "cell_type": "code",
   "execution_count": 6,
   "id": "6ddaceda",
   "metadata": {},
   "outputs": [],
   "source": [
    "url =\"https://raw.githubusercontent.com/justmarkham/DAT8/master/data/u.user\"\n",
    "df =pd.read_csv(url, delimiter='|')"
   ]
  },
  {
   "cell_type": "code",
   "execution_count": 7,
   "id": "69225597",
   "metadata": {},
   "outputs": [],
   "source": [
    "url = \"https://raw.githubusercontent.com/justmarkham/DAT8/master/data/u.user\"\n",
    "users = pd.read_csv(url, delimiter='|', index_col='user_id')"
   ]
  },
  {
   "cell_type": "code",
   "execution_count": 8,
   "id": "f36974a1",
   "metadata": {},
   "outputs": [
    {
     "name": "stdout",
     "output_type": "stream",
     "text": [
      "         age gender     occupation zip_code\n",
      "user_id                                    \n",
      "1         24      M     technician    85711\n",
      "2         53      F          other    94043\n",
      "3         23      M         writer    32067\n",
      "4         24      M     technician    43537\n",
      "5         33      F          other    15213\n",
      "6         42      M      executive    98101\n",
      "7         57      M  administrator    91344\n",
      "8         36      M  administrator    05201\n",
      "9         29      M        student    01002\n",
      "10        53      M         lawyer    90703\n",
      "11        39      F          other    30329\n",
      "12        28      F          other    06405\n",
      "13        47      M       educator    29206\n",
      "14        45      M      scientist    55106\n",
      "15        49      F       educator    97301\n",
      "16        21      M  entertainment    10309\n",
      "17        30      M     programmer    06355\n",
      "18        35      F          other    37212\n",
      "19        40      M      librarian    02138\n",
      "20        42      F      homemaker    95660\n",
      "21        26      M         writer    30068\n",
      "22        25      M         writer    40206\n",
      "23        30      F         artist    48197\n",
      "24        21      F         artist    94533\n",
      "25        39      M       engineer    55107\n"
     ]
    }
   ],
   "source": [
    "print(users.head(25))"
   ]
  },
  {
   "cell_type": "code",
   "execution_count": 9,
   "id": "18db5e32",
   "metadata": {},
   "outputs": [
    {
     "name": "stdout",
     "output_type": "stream",
     "text": [
      "         age gender     occupation zip_code\n",
      "user_id                                    \n",
      "934       61      M       engineer    22902\n",
      "935       42      M         doctor    66221\n",
      "936       24      M          other    32789\n",
      "937       48      M       educator    98072\n",
      "938       38      F     technician    55038\n",
      "939       26      F        student    33319\n",
      "940       32      M  administrator    02215\n",
      "941       20      M        student    97229\n",
      "942       48      F      librarian    78209\n",
      "943       22      M        student    77841\n"
     ]
    }
   ],
   "source": [
    "print(users.tail(10))"
   ]
  },
  {
   "cell_type": "code",
   "execution_count": 10,
   "id": "43e60abe",
   "metadata": {},
   "outputs": [
    {
     "name": "stdout",
     "output_type": "stream",
     "text": [
      "Number of observations: 943\n"
     ]
    }
   ],
   "source": [
    "num_observations = users.shape[0]\n",
    "print(\"Number of observations:\", num_observations)"
   ]
  },
  {
   "cell_type": "code",
   "execution_count": 11,
   "id": "b1c6e284",
   "metadata": {},
   "outputs": [
    {
     "name": "stdout",
     "output_type": "stream",
     "text": [
      "Number of columns: 4\n"
     ]
    }
   ],
   "source": [
    "num_columns = users.shape[1]\n",
    "print(\"Number of columns:\", num_columns)"
   ]
  },
  {
   "cell_type": "code",
   "execution_count": 12,
   "id": "559a2588",
   "metadata": {},
   "outputs": [
    {
     "name": "stdout",
     "output_type": "stream",
     "text": [
      "Column names:\n",
      "Index(['age', 'gender', 'occupation', 'zip_code'], dtype='object')\n"
     ]
    }
   ],
   "source": [
    "print(\"Column names:\")\n",
    "print(users.columns)"
   ]
  },
  {
   "cell_type": "code",
   "execution_count": 13,
   "id": "5b66e99b",
   "metadata": {},
   "outputs": [
    {
     "name": "stdout",
     "output_type": "stream",
     "text": [
      "Indexing:\n",
      "Int64Index([  1,   2,   3,   4,   5,   6,   7,   8,   9,  10,\n",
      "            ...\n",
      "            934, 935, 936, 937, 938, 939, 940, 941, 942, 943],\n",
      "           dtype='int64', name='user_id', length=943)\n"
     ]
    }
   ],
   "source": [
    "print(\"Indexing:\")\n",
    "print(users.index)"
   ]
  },
  {
   "cell_type": "code",
   "execution_count": 14,
   "id": "ffa0e627",
   "metadata": {},
   "outputs": [
    {
     "name": "stdout",
     "output_type": "stream",
     "text": [
      "Data types:\n",
      "age            int64\n",
      "gender        object\n",
      "occupation    object\n",
      "zip_code      object\n",
      "dtype: object\n"
     ]
    }
   ],
   "source": [
    "print(\"Data types:\")\n",
    "print(users.dtypes)"
   ]
  },
  {
   "cell_type": "code",
   "execution_count": 15,
   "id": "d7ddb77c",
   "metadata": {},
   "outputs": [
    {
     "name": "stdout",
     "output_type": "stream",
     "text": [
      "Occupation column:\n",
      "user_id\n",
      "1         technician\n",
      "2              other\n",
      "3             writer\n",
      "4         technician\n",
      "5              other\n",
      "           ...      \n",
      "939          student\n",
      "940    administrator\n",
      "941          student\n",
      "942        librarian\n",
      "943          student\n",
      "Name: occupation, Length: 943, dtype: object\n"
     ]
    }
   ],
   "source": [
    "print(\"Occupation column:\")\n",
    "print(users['occupation'])"
   ]
  },
  {
   "cell_type": "code",
   "execution_count": 16,
   "id": "1d20c6f3",
   "metadata": {},
   "outputs": [
    {
     "name": "stdout",
     "output_type": "stream",
     "text": [
      "Number of different occupations: 21\n"
     ]
    }
   ],
   "source": [
    "num_occupations = users['occupation'].nunique()\n",
    "print(\"Number of different occupations:\", num_occupations)"
   ]
  },
  {
   "cell_type": "code",
   "execution_count": null,
   "id": "97215b0c",
   "metadata": {},
   "outputs": [],
   "source": []
  }
 ],
 "metadata": {
  "kernelspec": {
   "display_name": "Python 3 (ipykernel)",
   "language": "python",
   "name": "python3"
  },
  "language_info": {
   "codemirror_mode": {
    "name": "ipython",
    "version": 3
   },
   "file_extension": ".py",
   "mimetype": "text/x-python",
   "name": "python",
   "nbconvert_exporter": "python",
   "pygments_lexer": "ipython3",
   "version": "3.10.9"
  }
 },
 "nbformat": 4,
 "nbformat_minor": 5
}
