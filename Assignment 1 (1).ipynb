{
 "cells": [
  {
   "cell_type": "code",
   "execution_count": 41,
   "id": "9e00f680",
   "metadata": {},
   "outputs": [
    {
     "data": {
      "text/plain": [
       "((1, 2), (3, 4))"
      ]
     },
     "execution_count": 41,
     "metadata": {},
     "output_type": "execute_result"
    }
   ],
   "source": [
    "Data_tuple=((1,2),(3,4))\n",
    "Data_tuple"
   ]
  },
  {
   "cell_type": "code",
   "execution_count": 62,
   "id": "3d01c23a",
   "metadata": {},
   "outputs": [
    {
     "data": {
      "text/plain": [
       "[4, 3, 2, 1]"
      ]
     },
     "execution_count": 62,
     "metadata": {},
     "output_type": "execute_result"
    }
   ],
   "source": [
    "numbers=[4, 3, 2, 1]\n",
    "numbers"
   ]
  },
  {
   "cell_type": "code",
   "execution_count": 80,
   "id": "ba0312b6",
   "metadata": {},
   "outputs": [
    {
     "data": {
      "text/plain": [
       "[1, 2, 3, 4]"
      ]
     },
     "execution_count": 80,
     "metadata": {},
     "output_type": "execute_result"
    }
   ],
   "source": [
    "numbers_copy=numbers[:]\n",
    "numbers_copy"
   ]
  },
  {
   "cell_type": "code",
   "execution_count": 65,
   "id": "12f86216",
   "metadata": {},
   "outputs": [
    {
     "data": {
      "text/plain": [
       "[1, 2, 3, 4]"
      ]
     },
     "execution_count": 65,
     "metadata": {},
     "output_type": "execute_result"
    }
   ],
   "source": [
    "numbers.sort()\n",
    "numbers"
   ]
  },
  {
   "cell_type": "code",
   "execution_count": 71,
   "id": "cbb12c61",
   "metadata": {},
   "outputs": [
    {
     "data": {
      "text/plain": [
       "('first', 'second', 'third')"
      ]
     },
     "execution_count": 71,
     "metadata": {},
     "output_type": "execute_result"
    }
   ],
   "source": [
    "cardinal_numbers_tuple=(\"first\",\"second\",\"third\")\n",
    "cardinal_numbers_tuple"
   ]
  },
  {
   "cell_type": "code",
   "execution_count": 76,
   "id": "19e3d23e",
   "metadata": {},
   "outputs": [
    {
     "name": "stdout",
     "output_type": "stream",
     "text": [
      "second\n"
     ]
    }
   ],
   "source": [
    "print(cardinal_numbers_tuple[1])"
   ]
  },
  {
   "cell_type": "code",
   "execution_count": 47,
   "id": "eb8bcc60",
   "metadata": {},
   "outputs": [
    {
     "name": "stdout",
     "output_type": "stream",
     "text": [
      "first\n",
      "second\n",
      "third\n"
     ]
    }
   ],
   "source": [
    "first_num, second_num, third_num = cardinal_numbers_tuple\n",
    "print(first_num)\n",
    "print(second_num)\n",
    "print(third_num)"
   ]
  },
  {
   "cell_type": "code",
   "execution_count": 82,
   "id": "23f9263b",
   "metadata": {},
   "outputs": [
    {
     "name": "stdout",
     "output_type": "stream",
     "text": [
      "('s', 'r', 'i', 'r', 'a', 'm')\n"
     ]
    }
   ],
   "source": [
    "my_name=\"sriram\"\n",
    "name_tuple=tuple(my_name)\n",
    "print(name_tuple)"
   ]
  },
  {
   "cell_type": "code",
   "execution_count": 83,
   "id": "8321753f",
   "metadata": {},
   "outputs": [
    {
     "name": "stdout",
     "output_type": "stream",
     "text": [
      "False\n"
     ]
    }
   ],
   "source": [
    "print(\"x\" in my_name)"
   ]
  },
  {
   "cell_type": "code",
   "execution_count": 84,
   "id": "b0ff323e",
   "metadata": {
    "scrolled": true
   },
   "outputs": [
    {
     "name": "stdout",
     "output_type": "stream",
     "text": [
      "True\n"
     ]
    }
   ],
   "source": [
    "print(\"s\" in my_name)"
   ]
  },
  {
   "cell_type": "code",
   "execution_count": null,
   "id": "3f522605",
   "metadata": {},
   "outputs": [],
   "source": []
  }
 ],
 "metadata": {
  "kernelspec": {
   "display_name": "Python 3 (ipykernel)",
   "language": "python",
   "name": "python3"
  },
  "language_info": {
   "codemirror_mode": {
    "name": "ipython",
    "version": 3
   },
   "file_extension": ".py",
   "mimetype": "text/x-python",
   "name": "python",
   "nbconvert_exporter": "python",
   "pygments_lexer": "ipython3",
   "version": "3.10.9"
  }
 },
 "nbformat": 4,
 "nbformat_minor": 5
}
