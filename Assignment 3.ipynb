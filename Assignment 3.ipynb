{
 "cells": [
  {
   "cell_type": "code",
   "execution_count": 42,
   "id": "f04a2b91",
   "metadata": {},
   "outputs": [],
   "source": [
    "import pandas as pd"
   ]
  },
  {
   "cell_type": "code",
   "execution_count": 43,
   "id": "2699fc39",
   "metadata": {},
   "outputs": [],
   "source": [
    "# Create an example dataframe about a fictional army\n",
    "raw_data = {'regiment': ['Nighthawks', 'Nighthawks', 'Nighthawks', 'Nighthawks', 'Dragoons', 'Dragoons', 'Dragoons', 'Dragoons', 'Scouts', 'Scouts', 'Scouts', 'Scouts'],\n",
    "            'company': ['1st', '1st', '2nd', '2nd', '1st', '1st', '2nd', '2nd','1st', '1st', '2nd', '2nd'],\n",
    "            'deaths': [523, 52, 25, 616, 43, 234, 523, 62, 62, 73, 37, 35],\n",
    "            'battles': [5, 42, 2, 2, 4, 7, 8, 3, 4, 7, 8, 9],\n",
    "            'size': [1045, 957, 1099, 1400, 1592, 1006, 987, 849, 973, 1005, 1099, 1523],\n",
    "            'veterans': [1, 5, 62, 26, 73, 37, 949, 48, 48, 435, 63, 345],\n",
    "            'readiness': [1, 2, 3, 3, 2, 1, 2, 3, 2, 1, 2, 3],\n",
    "            'armored': [1, 0, 1, 1, 0, 1, 0, 1, 0, 0, 1, 1],\n",
    "            'deserters': [4, 24, 31, 2, 3, 4, 24, 31, 2, 3, 2, 3],\n",
    "            'origin': ['Arizona', 'California', 'Texas', 'Florida', 'Maine', 'Iowa', 'Alaska', 'Washington', 'Oregon', 'Wyoming', 'Louisana', 'Georgia']}"
   ]
  },
  {
   "cell_type": "code",
   "execution_count": 44,
   "id": "dc537a6b",
   "metadata": {},
   "outputs": [],
   "source": [
    "army=pd.DataFrame(raw_data)"
   ]
  },
  {
   "cell_type": "code",
   "execution_count": 45,
   "id": "f263daaa",
   "metadata": {},
   "outputs": [],
   "source": [
    "army=army.set_index('origin')"
   ]
  },
  {
   "cell_type": "code",
   "execution_count": 46,
   "id": "08756ffc",
   "metadata": {},
   "outputs": [
    {
     "name": "stdout",
     "output_type": "stream",
     "text": [
      "origin\n",
      "Arizona         1\n",
      "California      5\n",
      "Texas          62\n",
      "Florida        26\n",
      "Maine          73\n",
      "Iowa           37\n",
      "Alaska        949\n",
      "Washington     48\n",
      "Oregon         48\n",
      "Wyoming       435\n",
      "Louisana       63\n",
      "Georgia       345\n",
      "Name: veterans, dtype: int64\n"
     ]
    }
   ],
   "source": [
    "print(army['veterans'])"
   ]
  },
  {
   "cell_type": "code",
   "execution_count": 47,
   "id": "680594b7",
   "metadata": {},
   "outputs": [
    {
     "name": "stdout",
     "output_type": "stream",
     "text": [
      "            veterans  deaths\n",
      "origin                      \n",
      "Arizona            1     523\n",
      "California         5      52\n",
      "Texas             62      25\n",
      "Florida           26     616\n",
      "Maine             73      43\n",
      "Iowa              37     234\n",
      "Alaska           949     523\n",
      "Washington        48      62\n",
      "Oregon            48      62\n",
      "Wyoming          435      73\n",
      "Louisana          63      37\n",
      "Georgia          345      35\n"
     ]
    }
   ],
   "source": [
    "print(army[['veterans', 'deaths']])"
   ]
  },
  {
   "cell_type": "code",
   "execution_count": 48,
   "id": "8a68b32b",
   "metadata": {},
   "outputs": [
    {
     "name": "stdout",
     "output_type": "stream",
     "text": [
      "Index(['regiment', 'company', 'deaths', 'battles', 'size', 'veterans',\n",
      "       'readiness', 'armored', 'deserters'],\n",
      "      dtype='object')\n"
     ]
    }
   ],
   "source": [
    "print(army.columns)"
   ]
  },
  {
   "cell_type": "code",
   "execution_count": 49,
   "id": "b71a7a6e",
   "metadata": {},
   "outputs": [
    {
     "name": "stdout",
     "output_type": "stream",
     "text": [
      "        deaths  size  deserters\n",
      "origin                         \n",
      "Maine       43  1592          3\n",
      "Alaska     523   987         24\n"
     ]
    }
   ],
   "source": [
    "print(army.loc[['Maine', 'Alaska'], ['deaths', 'size', 'deserters']])"
   ]
  },
  {
   "cell_type": "code",
   "execution_count": 50,
   "id": "7a033838",
   "metadata": {},
   "outputs": [
    {
     "name": "stdout",
     "output_type": "stream",
     "text": [
      "         deaths  battles  size  veterans\n",
      "origin                                  \n",
      "Texas        25        2  1099        62\n",
      "Florida     616        2  1400        26\n",
      "Maine        43        4  1592        73\n",
      "Iowa        234        7  1006        37\n",
      "Alaska      523        8   987       949\n"
     ]
    }
   ],
   "source": [
    "print(army.iloc[2:7, 2:6])"
   ]
  },
  {
   "cell_type": "code",
   "execution_count": 51,
   "id": "2a7ff97d",
   "metadata": {},
   "outputs": [
    {
     "name": "stdout",
     "output_type": "stream",
     "text": [
      "            regiment company  deaths  battles  size  veterans  readiness  \\\n",
      "origin                                                                     \n",
      "Maine       Dragoons     1st      43        4  1592        73          2   \n",
      "Iowa        Dragoons     1st     234        7  1006        37          1   \n",
      "Alaska      Dragoons     2nd     523        8   987       949          2   \n",
      "Washington  Dragoons     2nd      62        3   849        48          3   \n",
      "Oregon        Scouts     1st      62        4   973        48          2   \n",
      "Wyoming       Scouts     1st      73        7  1005       435          1   \n",
      "Louisana      Scouts     2nd      37        8  1099        63          2   \n",
      "Georgia       Scouts     2nd      35        9  1523       345          3   \n",
      "\n",
      "            armored  deserters  \n",
      "origin                          \n",
      "Maine             0          3  \n",
      "Iowa              1          4  \n",
      "Alaska            0         24  \n",
      "Washington        1         31  \n",
      "Oregon            0          2  \n",
      "Wyoming           0          3  \n",
      "Louisana          1          2  \n",
      "Georgia           1          3  \n"
     ]
    }
   ],
   "source": [
    "print(army.iloc[4:, :])"
   ]
  },
  {
   "cell_type": "code",
   "execution_count": 52,
   "id": "7f9c5405",
   "metadata": {},
   "outputs": [
    {
     "name": "stdout",
     "output_type": "stream",
     "text": [
      "              regiment company  deaths  battles  size  veterans  readiness  \\\n",
      "origin                                                                       \n",
      "Arizona     Nighthawks     1st     523        5  1045         1          1   \n",
      "California  Nighthawks     1st      52       42   957         5          2   \n",
      "Texas       Nighthawks     2nd      25        2  1099        62          3   \n",
      "Florida     Nighthawks     2nd     616        2  1400        26          3   \n",
      "\n",
      "            armored  deserters  \n",
      "origin                          \n",
      "Arizona           1          4  \n",
      "California        0         24  \n",
      "Texas             1         31  \n",
      "Florida           1          2  \n"
     ]
    }
   ],
   "source": [
    "print(army.iloc[:4, :])"
   ]
  },
  {
   "cell_type": "code",
   "execution_count": 53,
   "id": "94c3c171",
   "metadata": {},
   "outputs": [
    {
     "name": "stdout",
     "output_type": "stream",
     "text": [
      "            deaths  battles  size  veterans  readiness\n",
      "origin                                                \n",
      "Arizona        523        5  1045         1          1\n",
      "California      52       42   957         5          2\n",
      "Texas           25        2  1099        62          3\n",
      "Florida        616        2  1400        26          3\n",
      "Maine           43        4  1592        73          2\n",
      "Iowa           234        7  1006        37          1\n",
      "Alaska         523        8   987       949          2\n",
      "Washington      62        3   849        48          3\n",
      "Oregon          62        4   973        48          2\n",
      "Wyoming         73        7  1005       435          1\n",
      "Louisana        37        8  1099        63          2\n",
      "Georgia         35        9  1523       345          3\n"
     ]
    }
   ],
   "source": [
    "print(army.iloc[:, 2:7])"
   ]
  },
  {
   "cell_type": "code",
   "execution_count": 54,
   "id": "86f536df",
   "metadata": {},
   "outputs": [
    {
     "name": "stdout",
     "output_type": "stream",
     "text": [
      "              regiment company  deaths  battles  size  veterans  readiness  \\\n",
      "origin                                                                       \n",
      "Arizona     Nighthawks     1st     523        5  1045         1          1   \n",
      "California  Nighthawks     1st      52       42   957         5          2   \n",
      "Florida     Nighthawks     2nd     616        2  1400        26          3   \n",
      "Iowa          Dragoons     1st     234        7  1006        37          1   \n",
      "Alaska        Dragoons     2nd     523        8   987       949          2   \n",
      "Washington    Dragoons     2nd      62        3   849        48          3   \n",
      "Oregon          Scouts     1st      62        4   973        48          2   \n",
      "Wyoming         Scouts     1st      73        7  1005       435          1   \n",
      "\n",
      "            armored  deserters  \n",
      "origin                          \n",
      "Arizona           1          4  \n",
      "California        0         24  \n",
      "Florida           1          2  \n",
      "Iowa              1          4  \n",
      "Alaska            0         24  \n",
      "Washington        1         31  \n",
      "Oregon            0          2  \n",
      "Wyoming           0          3  \n"
     ]
    }
   ],
   "source": [
    "print(army[army['deaths'] > 50])"
   ]
  },
  {
   "cell_type": "code",
   "execution_count": 55,
   "id": "5172dcc5",
   "metadata": {},
   "outputs": [
    {
     "name": "stdout",
     "output_type": "stream",
     "text": [
      "            regiment company  deaths  battles  size  veterans  readiness  \\\n",
      "origin                                                                     \n",
      "Arizona   Nighthawks     1st     523        5  1045         1          1   \n",
      "Texas     Nighthawks     2nd      25        2  1099        62          3   \n",
      "Florida   Nighthawks     2nd     616        2  1400        26          3   \n",
      "Maine       Dragoons     1st      43        4  1592        73          2   \n",
      "Alaska      Dragoons     2nd     523        8   987       949          2   \n",
      "Louisana      Scouts     2nd      37        8  1099        63          2   \n",
      "Georgia       Scouts     2nd      35        9  1523       345          3   \n",
      "\n",
      "          armored  deserters  \n",
      "origin                        \n",
      "Arizona         1          4  \n",
      "Texas           1         31  \n",
      "Florida         1          2  \n",
      "Maine           0          3  \n",
      "Alaska          0         24  \n",
      "Louisana        1          2  \n",
      "Georgia         1          3  \n"
     ]
    }
   ],
   "source": [
    "print(army[(army['deaths'] > 500) | (army['deaths'] < 50)])"
   ]
  },
  {
   "cell_type": "code",
   "execution_count": 56,
   "id": "67d029d3",
   "metadata": {},
   "outputs": [
    {
     "name": "stdout",
     "output_type": "stream",
     "text": [
      "           regiment company  deaths  battles  size  veterans  readiness  \\\n",
      "origin                                                                    \n",
      "Texas    Nighthawks     2nd      25        2  1099        62          3   \n",
      "Arizona  Nighthawks     1st     523        5  1045         1          1   \n",
      "\n",
      "         armored  deserters  \n",
      "origin                       \n",
      "Texas          1         31  \n",
      "Arizona        1          4  \n"
     ]
    }
   ],
   "source": [
    "print(army.loc[['Texas', 'Arizona']])"
   ]
  },
  {
   "cell_type": "code",
   "execution_count": 57,
   "id": "e9248315",
   "metadata": {},
   "outputs": [
    {
     "name": "stdout",
     "output_type": "stream",
     "text": [
      "523\n"
     ]
    }
   ],
   "source": [
    "print(army.loc['Arizona'].iloc[2])"
   ]
  },
  {
   "cell_type": "code",
   "execution_count": 58,
   "id": "b9929372",
   "metadata": {},
   "outputs": [
    {
     "name": "stdout",
     "output_type": "stream",
     "text": [
      "523\n"
     ]
    }
   ],
   "source": [
    "print(army.loc['Arizona', 'deaths'])"
   ]
  },
  {
   "cell_type": "code",
   "execution_count": null,
   "id": "98d958a1",
   "metadata": {},
   "outputs": [],
   "source": []
  }
 ],
 "metadata": {
  "kernelspec": {
   "display_name": "Python 3 (ipykernel)",
   "language": "python",
   "name": "python3"
  },
  "language_info": {
   "codemirror_mode": {
    "name": "ipython",
    "version": 3
   },
   "file_extension": ".py",
   "mimetype": "text/x-python",
   "name": "python",
   "nbconvert_exporter": "python",
   "pygments_lexer": "ipython3",
   "version": "3.10.9"
  }
 },
 "nbformat": 4,
 "nbformat_minor": 5
}
